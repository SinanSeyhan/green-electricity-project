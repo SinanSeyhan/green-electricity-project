{
 "cells": [
  {
   "cell_type": "code",
   "execution_count": 5,
   "id": "1f059d7d-f201-4d5a-a08b-3e13dd1191c7",
   "metadata": {},
   "outputs": [
    {
     "name": "stdout",
     "output_type": "stream",
     "text": [
      "Requirement already satisfied: pystan in /home/sinan/.pyenv/versions/3.8.12/envs/lewagon/lib/python3.8/site-packages (2.19.1.1)\n",
      "Requirement already satisfied: numpy>=1.7 in /home/sinan/.pyenv/versions/3.8.12/envs/lewagon/lib/python3.8/site-packages (from pystan) (1.18.5)\n",
      "Requirement already satisfied: Cython!=0.25.1,>=0.22 in /home/sinan/.pyenv/versions/3.8.12/envs/lewagon/lib/python3.8/site-packages (from pystan) (0.29.26)\n",
      "Requirement already satisfied: prophet in /home/sinan/.pyenv/versions/3.8.12/envs/lewagon/lib/python3.8/site-packages (1.0.1)\n",
      "Requirement already satisfied: python-dateutil>=2.8.0 in /home/sinan/.pyenv/versions/3.8.12/envs/lewagon/lib/python3.8/site-packages (from prophet) (2.8.2)\n",
      "Requirement already satisfied: holidays>=0.10.2 in /home/sinan/.pyenv/versions/3.8.12/envs/lewagon/lib/python3.8/site-packages (from prophet) (0.13)\n",
      "Requirement already satisfied: numpy>=1.15.4 in /home/sinan/.pyenv/versions/3.8.12/envs/lewagon/lib/python3.8/site-packages (from prophet) (1.18.5)\n",
      "Requirement already satisfied: tqdm>=4.36.1 in /home/sinan/.pyenv/versions/3.8.12/envs/lewagon/lib/python3.8/site-packages (from prophet) (4.62.3)\n",
      "Requirement already satisfied: Cython>=0.22 in /home/sinan/.pyenv/versions/3.8.12/envs/lewagon/lib/python3.8/site-packages (from prophet) (0.29.26)\n",
      "Requirement already satisfied: pystan~=2.19.1.1 in /home/sinan/.pyenv/versions/3.8.12/envs/lewagon/lib/python3.8/site-packages (from prophet) (2.19.1.1)\n",
      "Requirement already satisfied: convertdate>=2.1.2 in /home/sinan/.pyenv/versions/3.8.12/envs/lewagon/lib/python3.8/site-packages (from prophet) (2.4.0)\n",
      "Requirement already satisfied: cmdstanpy==0.9.68 in /home/sinan/.pyenv/versions/3.8.12/envs/lewagon/lib/python3.8/site-packages (from prophet) (0.9.68)\n",
      "Requirement already satisfied: LunarCalendar>=0.0.9 in /home/sinan/.pyenv/versions/3.8.12/envs/lewagon/lib/python3.8/site-packages (from prophet) (0.0.9)\n",
      "Requirement already satisfied: matplotlib>=2.0.0 in /home/sinan/.pyenv/versions/3.8.12/envs/lewagon/lib/python3.8/site-packages (from prophet) (3.5.1)\n",
      "Requirement already satisfied: setuptools-git>=1.2 in /home/sinan/.pyenv/versions/3.8.12/envs/lewagon/lib/python3.8/site-packages (from prophet) (1.2)\n",
      "Requirement already satisfied: pandas>=1.0.4 in /home/sinan/.pyenv/versions/3.8.12/envs/lewagon/lib/python3.8/site-packages (from prophet) (1.3.5)\n",
      "Requirement already satisfied: ujson in /home/sinan/.pyenv/versions/3.8.12/envs/lewagon/lib/python3.8/site-packages (from cmdstanpy==0.9.68->prophet) (5.3.0)\n",
      "Requirement already satisfied: pymeeus<=1,>=0.3.13 in /home/sinan/.pyenv/versions/3.8.12/envs/lewagon/lib/python3.8/site-packages (from convertdate>=2.1.2->prophet) (0.5.11)\n",
      "Requirement already satisfied: hijri-converter in /home/sinan/.pyenv/versions/3.8.12/envs/lewagon/lib/python3.8/site-packages (from holidays>=0.10.2->prophet) (2.2.4)\n",
      "Requirement already satisfied: korean-lunar-calendar in /home/sinan/.pyenv/versions/3.8.12/envs/lewagon/lib/python3.8/site-packages (from holidays>=0.10.2->prophet) (0.2.1)\n",
      "Requirement already satisfied: ephem>=3.7.5.3 in /home/sinan/.pyenv/versions/3.8.12/envs/lewagon/lib/python3.8/site-packages (from LunarCalendar>=0.0.9->prophet) (4.1.3)\n",
      "Requirement already satisfied: pytz in /home/sinan/.pyenv/versions/3.8.12/envs/lewagon/lib/python3.8/site-packages (from LunarCalendar>=0.0.9->prophet) (2021.3)\n",
      "Requirement already satisfied: fonttools>=4.22.0 in /home/sinan/.pyenv/versions/3.8.12/envs/lewagon/lib/python3.8/site-packages (from matplotlib>=2.0.0->prophet) (4.28.5)\n",
      "Requirement already satisfied: cycler>=0.10 in /home/sinan/.pyenv/versions/3.8.12/envs/lewagon/lib/python3.8/site-packages (from matplotlib>=2.0.0->prophet) (0.11.0)\n",
      "Requirement already satisfied: pyparsing>=2.2.1 in /home/sinan/.pyenv/versions/3.8.12/envs/lewagon/lib/python3.8/site-packages (from matplotlib>=2.0.0->prophet) (3.0.6)\n",
      "Requirement already satisfied: kiwisolver>=1.0.1 in /home/sinan/.pyenv/versions/3.8.12/envs/lewagon/lib/python3.8/site-packages (from matplotlib>=2.0.0->prophet) (1.3.2)\n",
      "Requirement already satisfied: pillow>=6.2.0 in /home/sinan/.pyenv/versions/3.8.12/envs/lewagon/lib/python3.8/site-packages (from matplotlib>=2.0.0->prophet) (9.0.0)\n",
      "Requirement already satisfied: packaging>=20.0 in /home/sinan/.pyenv/versions/3.8.12/envs/lewagon/lib/python3.8/site-packages (from matplotlib>=2.0.0->prophet) (20.2)\n",
      "Requirement already satisfied: six>=1.5 in /home/sinan/.pyenv/versions/3.8.12/envs/lewagon/lib/python3.8/site-packages (from python-dateutil>=2.8.0->prophet) (1.14.0)\n"
     ]
    }
   ],
   "source": [
    "!pip install pystan\n",
    "\n",
    "!pip install prophet\n",
    "\n",
    "from prophet import Prophet"
   ]
  },
  {
   "cell_type": "code",
   "execution_count": 4,
   "id": "fc64ab56-27d9-42c2-bf35-5d03d9c670c5",
   "metadata": {},
   "outputs": [],
   "source": []
  },
  {
   "cell_type": "code",
   "execution_count": null,
   "id": "67d8e85e-f081-45d8-b952-490dcd426ccb",
   "metadata": {},
   "outputs": [],
   "source": []
  }
 ],
 "metadata": {
  "kernelspec": {
   "display_name": "Python 3 (ipykernel)",
   "language": "python",
   "name": "python3"
  },
  "language_info": {
   "codemirror_mode": {
    "name": "ipython",
    "version": 3
   },
   "file_extension": ".py",
   "mimetype": "text/x-python",
   "name": "python",
   "nbconvert_exporter": "python",
   "pygments_lexer": "ipython3",
   "version": "3.8.12"
  }
 },
 "nbformat": 4,
 "nbformat_minor": 5
}
